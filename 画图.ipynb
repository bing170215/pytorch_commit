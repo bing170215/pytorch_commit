{
 "cells": [
  {
   "cell_type": "code",
   "execution_count": 1,
   "metadata": {},
   "outputs": [],
   "source": [
    "import numpy as np\n",
    "import matplotlib.pyplot as plt"
   ]
  },
  {
   "cell_type": "code",
   "execution_count": null,
   "metadata": {},
   "outputs": [],
   "source": [
    "nloss_path='train_nloss_smalldata_NEG5.txt'\n",
    "cossimi_path='train_3model_negsample_neg5_datasmall_cossimi_small.txt'\n"
   ]
  },
  {
   "cell_type": "code",
   "execution_count": null,
   "metadata": {},
   "outputs": [],
   "source": [
    "figure, ax = plt.subplots(figsize=(10,4))\n",
    "# plt.grid(color='#95a5a6',linestyle='--', linewidth=3,axis='both',alpha=0.4)\n",
    "# plt.rc('font', family='STXihei', size=15)\n",
    "plt.plot(,lw=2)\n",
    "plt.plot(,lw=2)\n",
    "\n",
    "\n",
    "plt.legend(['logsoftmax','余弦相似性'])\n",
    "\n",
    "plt.ylabel(\"X\")\n",
    "plt.xlabel(\"Time\")\n",
    "\n",
    "plt.show()"
   ]
  }
 ],
 "metadata": {
  "kernelspec": {
   "display_name": "Python 3",
   "language": "python",
   "name": "python3"
  },
  "language_info": {
   "codemirror_mode": {
    "name": "ipython",
    "version": 3
   },
   "file_extension": ".py",
   "mimetype": "text/x-python",
   "name": "python",
   "nbconvert_exporter": "python",
   "pygments_lexer": "ipython3",
   "version": "3.7.7"
  }
 },
 "nbformat": 4,
 "nbformat_minor": 4
}
